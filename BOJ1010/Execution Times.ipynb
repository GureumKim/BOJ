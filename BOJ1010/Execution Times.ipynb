{
 "cells": [
  {
   "cell_type": "code",
   "execution_count": 8,
   "id": "ba551b6a",
   "metadata": {},
   "outputs": [
    {
     "name": "stdout",
     "output_type": "stream",
     "text": [
      "67863915\n",
      "0.0019378662109375\n"
     ]
    }
   ],
   "source": [
    "# 1. DP 사용\n",
    "\n",
    "import time\n",
    "start = time.time()\n",
    "arr = [[0 for _ in range(30)] for _ in range(30)]\n",
    "for n in range(30):\n",
    "    for m in range(30):\n",
    "        if n == 0:\n",
    "            arr[n][m]=m+1\n",
    "        else:\n",
    "            if n == m:\n",
    "                arr[n][m] = 1\n",
    "            elif n < m:\n",
    "                arr[n][m] = arr[n-1][m-1] + arr[n][m-1]\n",
    "print(arr[13-1][29-1])\n",
    "end = time.time()\n",
    "\n",
    "print(end - start)"
   ]
  },
  {
   "cell_type": "code",
   "execution_count": 9,
   "id": "bdc51b3c",
   "metadata": {},
   "outputs": [
    {
     "name": "stdout",
     "output_type": "stream",
     "text": [
      "67863915\n",
      "0.0006792545318603516\n"
     ]
    }
   ],
   "source": [
    "# 2. 재귀 이용한 공식 구현\n",
    "\n",
    "import time\n",
    "\n",
    "def factorial(n):\n",
    "    return n*factorial(n-1) if n>1 else 1\n",
    "\n",
    "# 그냥 기본적인 조합 공식을 구현했다.\n",
    "def combination(n,r):\n",
    "    return factorial(n) / (factorial(r) * factorial(n-r))\n",
    "\n",
    "start = time.time()\n",
    "\n",
    "result = combination(29,13)\n",
    "print(int(result))\n",
    "\n",
    "\n",
    "end = time.time()\n",
    "print(end - start)"
   ]
  },
  {
   "cell_type": "code",
   "execution_count": null,
   "id": "08dc12fe",
   "metadata": {},
   "outputs": [],
   "source": [
    "\"\"\"\n",
    "Combination(29, 13)기준\n",
    "1. 0.0019378662109375 (sec) 2. 0.0006792545318603516 (sec)\n",
    "\n",
    "결론\n",
    ": 조합 공식을 쓸 때 combination(n,r) n,r의 값이 크지 않다 보니 이 경우는 DP로 구현한 경우보다\n",
    "재귀를 이용한 코드가 더 빠르다...\n",
    "최적의 성능과 최고의 성능이 다름을 직접 확인했다.\n",
    "\"\"\""
   ]
  }
 ],
 "metadata": {
  "kernelspec": {
   "display_name": "Python 3 (ipykernel)",
   "language": "python",
   "name": "python3"
  },
  "language_info": {
   "codemirror_mode": {
    "name": "ipython",
    "version": 3
   },
   "file_extension": ".py",
   "mimetype": "text/x-python",
   "name": "python",
   "nbconvert_exporter": "python",
   "pygments_lexer": "ipython3",
   "version": "3.11.0"
  }
 },
 "nbformat": 4,
 "nbformat_minor": 5
}
